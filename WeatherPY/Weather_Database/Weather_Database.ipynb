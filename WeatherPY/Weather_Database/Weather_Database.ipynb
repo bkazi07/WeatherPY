{
  "metadata": {
    "language_info": {
      "codemirror_mode": {
        "name": "python",
        "version": 3
      },
      "file_extension": ".py",
      "mimetype": "text/x-python",
      "name": "python",
      "nbconvert_exporter": "python",
      "pygments_lexer": "ipython3",
      "version": "3.8"
    },
    "kernelspec": {
      "name": "python",
      "display_name": "Python (Pyodide)",
      "language": "python"
    }
  },
  "nbformat_minor": 4,
  "nbformat": 4,
  "cells": [
    {
      "cell_type": "code",
      "source": "import pandas as pd\nimport matplotlib.pyplot as plt\nimport numpy as np",
      "metadata": {},
      "execution_count": null,
      "outputs": []
    },
    {
      "cell_type": "code",
      "source": "lats = np.random.uniform(low=-90.000, high=90.000, size=2000)\nlngs = np.random.uniform(low=-180.000, high=180.000, size=2000)\nlat_lngs = zip(lats, lngs)\nlat_lngs",
      "metadata": {},
      "execution_count": null,
      "outputs": []
    },
    {
      "cell_type": "code",
      "source": "coordinates = list(lat_lngs)",
      "metadata": {},
      "execution_count": null,
      "outputs": []
    },
    {
      "cell_type": "code",
      "source": "from citipy import citipy",
      "metadata": {},
      "execution_count": null,
      "outputs": []
    },
    {
      "cell_type": "code",
      "source": "for coordinate in coordinates:\n    print(citipy.nearest_city(coordinate[0], coordinate[1]).city_name,\n          citipy.nearest_city(coordinate[0], coordinate[1]).country_code)",
      "metadata": {},
      "execution_count": null,
      "outputs": []
    }
  ]
}